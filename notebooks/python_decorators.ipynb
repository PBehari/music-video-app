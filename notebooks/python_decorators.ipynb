{
 "cells": [
  {
   "cell_type": "code",
   "execution_count": 2,
   "id": "a266d777",
   "metadata": {},
   "outputs": [
    {
     "name": "stdout",
     "output_type": "stream",
     "text": [
      "Print 1: Before function call\n",
      "Hello World\n",
      "Print 2: After function call\n"
     ]
    }
   ],
   "source": [
    "def custom_method(func):\n",
    "    def wrapper():\n",
    "        print(\"Print 1: Before function call\")\n",
    "        func()\n",
    "        print(\"Print 2: After function call\")\n",
    "\n",
    "    return wrapper()\n",
    "\n",
    "@custom_method\n",
    "def index():\n",
    "    print(\"Hello World\")"
   ]
  }
 ],
 "metadata": {
  "kernelspec": {
   "display_name": ".conda",
   "language": "python",
   "name": "python3"
  },
  "language_info": {
   "codemirror_mode": {
    "name": "ipython",
    "version": 3
   },
   "file_extension": ".py",
   "mimetype": "text/x-python",
   "name": "python",
   "nbconvert_exporter": "python",
   "pygments_lexer": "ipython3",
   "version": "3.12.9"
  }
 },
 "nbformat": 4,
 "nbformat_minor": 5
}
