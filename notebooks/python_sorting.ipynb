{
 "cells": [
  {
   "cell_type": "code",
   "execution_count": 3,
   "id": "77a76faf",
   "metadata": {},
   "outputs": [
    {
     "name": "stdout",
     "output_type": "stream",
     "text": [
      "[10, 8, 5, 4, 2, 1]\n",
      "[5, 8, 1, 4, 10, 2]\n"
     ]
    }
   ],
   "source": [
    "# List of numbers\n",
    "numbers = [5, 8, 1, 4, 10, 2]\n",
    "\n",
    "# Sort the numbers\n",
    "sorted_numbers = sorted(numbers, key=None, reverse=True)\n",
    "\n",
    "print(sorted_numbers)\n",
    "print(numbers)"
   ]
  },
  {
   "cell_type": "code",
   "execution_count": 5,
   "id": "0661f4b6",
   "metadata": {},
   "outputs": [
    {
     "name": "stdout",
     "output_type": "stream",
     "text": [
      "None\n",
      "[10, 8, 5, 4, 2, 1]\n"
     ]
    }
   ],
   "source": [
    "# List of numbers\n",
    "numbers = [5, 8, 1, 4, 10, 2]\n",
    "\n",
    "print(numbers.sort(key=None, reverse=True))\n",
    "\n",
    "print(numbers)"
   ]
  },
  {
   "cell_type": "code",
   "execution_count": 11,
   "id": "bbe05761",
   "metadata": {},
   "outputs": [
    {
     "name": "stdout",
     "output_type": "stream",
     "text": [
      "[{'score': 10}, {'name': 'Anna'}, {'name': 'Bella'}, {'name': 'Mike'}]\n"
     ]
    }
   ],
   "source": [
    "# List of names\n",
    "names_list = [\n",
    "    {\n",
    "        \"name\": \"Mike\"\n",
    "    },\n",
    "    {\n",
    "        \"name\": \"Anna\"\n",
    "    },\n",
    "    {\n",
    "        \"name\": \"Bella\"\n",
    "    },\n",
    "    {\n",
    "        \"score\": 10\n",
    "    },\n",
    "]\n",
    "\n",
    "sorted_names = sorted(names_list, key=lambda x: x.get(\"name\", \"\"), reverse=False)\n",
    "\n",
    "print(sorted_names)"
   ]
  },
  {
   "cell_type": "markdown",
   "id": "247d4311",
   "metadata": {},
   "source": [
    "<table>\n",
    "    <tr>\n",
    "        <td>name</td>\n",
    "        <td>score</td>\n",
    "    </tr>\n",
    "    <tr>\n",
    "        <td>Mike</td>\n",
    "        <td></td>\n",
    "    </tr>\n",
    "    <tr>\n",
    "        <td>Anna</td>\n",
    "        <td></td>\n",
    "    </tr>\n",
    "    <tr>\n",
    "        <td>Bella</td>\n",
    "        <td></td>\n",
    "    </tr>\n",
    "    <tr>\n",
    "        <td></td>\n",
    "        <td>10</td>\n",
    "    </tr>\n",
    "</table>"
   ]
  }
 ],
 "metadata": {
  "kernelspec": {
   "display_name": "Python 3",
   "language": "python",
   "name": "python3"
  },
  "language_info": {
   "codemirror_mode": {
    "name": "ipython",
    "version": 3
   },
   "file_extension": ".py",
   "mimetype": "text/x-python",
   "name": "python",
   "nbconvert_exporter": "python",
   "pygments_lexer": "ipython3",
   "version": "3.12.9"
  }
 },
 "nbformat": 4,
 "nbformat_minor": 5
}
